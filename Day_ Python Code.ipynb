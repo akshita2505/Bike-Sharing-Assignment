{
 "cells": [
  {
   "cell_type": "code",
   "execution_count": 2,
   "id": "b039d74c",
   "metadata": {},
   "outputs": [
    {
     "name": "stdout",
     "output_type": "stream",
     "text": [
      "R-squared score: 1.0\n"
     ]
    }
   ],
   "source": [
    "import pandas as pd\n",
    "import numpy as np\n",
    "from sklearn.model_selection import train_test_split\n",
    "from sklearn.linear_model import LinearRegression\n",
    "from sklearn.metrics import mean_squared_error, r2_score\n",
    "from sklearn.preprocessing import LabelEncoder, OneHotEncoder\n",
    "\n",
    "# Load the dataset\n",
    "data = pd.read_csv(\"C:/Users/DELL/Desktop/day.csv\")\n",
    "\n",
    "# Data preprocessing\n",
    "# Convert categorical variables to string values\n",
    "from sklearn.preprocessing import LabelEncoder\n",
    "\n",
    "# Convert categorical variables to string values\n",
    "le = LabelEncoder()\n",
    "data['weathersit'] = le.fit_transform(data['weathersit'].astype(str))\n",
    "data['season'] = le.fit_transform(data['season'].astype(str))\n",
    "data['yr'] = data['yr'].astype(str)\n",
    "\n",
    "# Drop unnecessary columns\n",
    "data = data.drop(['dteday'], axis=1)\n",
    "\n",
    "# One-hot encoding for categorical variables\n",
    "ohe = OneHotEncoder()\n",
    "ohe_weathersit = ohe.fit_transform(data[['weathersit']])\n",
    "ohe_season = ohe.fit_transform(data[['season']])\n",
    "ohe_yr = ohe.fit_transform(data[['yr']])\n",
    "\n",
    "# Combine one-hot encoded variables with original data\n",
    "data = pd.concat([data, pd.DataFrame(ohe_weathersit.toarray(), columns=['weathersit_'+str(i) for i in range(3)])], axis=1)\n",
    "data = pd.concat([data, pd.DataFrame(ohe_season.toarray(), columns=['season_'+str(i) for i in range(4)])], axis=1)\n",
    "data = pd.concat([data, pd.DataFrame(ohe_yr.toarray(), columns=['yr_'+str(i) for i in range(2)])], axis=1)\n",
    "\n",
    "# Drop unnecessary columns\n",
    "data = data.drop(['weathersit', 'season', 'yr'], axis=1)\n",
    "\n",
    "# Split the dataset into training and testing sets\n",
    "X = data.drop('cnt', axis=1)\n",
    "y = data['cnt']\n",
    "X_train, X_test, y_train, y_test = train_test_split(X, y, test_size=0.2, random_state=42)\n",
    "\n",
    "# Build the model\n",
    "model = LinearRegression()\n",
    "model.fit(X_train, y_train)\n",
    "\n",
    "# Make predictions on the test set\n",
    "y_pred = model.predict(X_test)\n",
    "\n",
    "# Calculate the R-squared score on the test set\n",
    "r2 = r2_score(y_test, y_pred)\n",
    "print('R-squared score:', r2)"
   ]
  },
  {
   "cell_type": "code",
   "execution_count": null,
   "id": "908507eb",
   "metadata": {},
   "outputs": [],
   "source": []
  }
 ],
 "metadata": {
  "kernelspec": {
   "display_name": "Python 3 (ipykernel)",
   "language": "python",
   "name": "python3"
  },
  "language_info": {
   "codemirror_mode": {
    "name": "ipython",
    "version": 3
   },
   "file_extension": ".py",
   "mimetype": "text/x-python",
   "name": "python",
   "nbconvert_exporter": "python",
   "pygments_lexer": "ipython3",
   "version": "3.11.5"
  }
 },
 "nbformat": 4,
 "nbformat_minor": 5
}
